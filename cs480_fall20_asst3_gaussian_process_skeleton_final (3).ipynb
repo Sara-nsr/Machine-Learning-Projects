{
  "nbformat": 4,
  "nbformat_minor": 0,
  "metadata": {
    "colab": {
      "name": "cs480_fall20_asst3_gaussian_process_skeleton_final.ipynb",
      "provenance": [],
      "collapsed_sections": []
    },
    "kernelspec": {
      "display_name": "Python 3",
      "name": "python3"
    },
    "accelerator": "GPU"
  },
  "cells": [
    {
      "cell_type": "markdown",
      "metadata": {
        "id": "JFXZug066bJX"
      },
      "source": [
        "# Upload files in Google Colab\n",
        "If you are running this Jupyter Notebook on Google Colab, run this cell to upload the data files (train_inputs.csv, train_targets.csv, test_inputs.csv, test_targets.csv) in the colab virtual machine.  You will be prompted to select files that you would like to upload. \n",
        "\n",
        "If you are running this Jupyter Notebook on your computer, you do not need to run this cell."
      ]
    },
    {
      "cell_type": "code",
      "metadata": {
        "id": "dqBJV_Br4XeI",
        "outputId": "8cba06ec-c478-4e97-f3f6-f3451b740ce1",
        "colab": {
          "resources": {
            "http://localhost:8080/nbextensions/google.colab/files.js": {
              "data": "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",
              "ok": true,
              "headers": [
                [
                  "content-type",
                  "application/javascript"
                ]
              ],
              "status": 200,
              "status_text": ""
            }
          },
          "base_uri": "https://localhost:8080/",
          "height": 208
        }
      },
      "source": [
        "from google.colab import files\n",
        "uploaded = files.upload()\n",
        "%ls"
      ],
      "execution_count": null,
      "outputs": [
        {
          "output_type": "display_data",
          "data": {
            "text/html": [
              "\n",
              "     <input type=\"file\" id=\"files-9a1d32b6-5d9e-4cf5-a10d-1b6d11ebd2be\" name=\"files[]\" multiple disabled\n",
              "        style=\"border:none\" />\n",
              "     <output id=\"result-9a1d32b6-5d9e-4cf5-a10d-1b6d11ebd2be\">\n",
              "      Upload widget is only available when the cell has been executed in the\n",
              "      current browser session. Please rerun this cell to enable.\n",
              "      </output>\n",
              "      <script src=\"/nbextensions/google.colab/files.js\"></script> "
            ],
            "text/plain": [
              "<IPython.core.display.HTML object>"
            ]
          },
          "metadata": {
            "tags": []
          }
        },
        {
          "output_type": "stream",
          "text": [
            "Saving test_inputs.csv to test_inputs.csv\n",
            "Saving test_targets.csv to test_targets.csv\n",
            "Saving train_inputs.csv to train_inputs.csv\n",
            "Saving train_targets.csv to train_targets.csv\n",
            "\u001b[0m\u001b[01;34msample_data\u001b[0m/     test_targets.csv  train_targets.csv\n",
            "test_inputs.csv  train_inputs.csv\n"
          ],
          "name": "stdout"
        }
      ]
    },
    {
      "cell_type": "markdown",
      "metadata": {
        "id": "LZDpxE4jmFwA"
      },
      "source": [
        "# Import libraries \n",
        "Do not use any other Python library."
      ]
    },
    {
      "cell_type": "code",
      "metadata": {
        "id": "m_1d0BPfmacB"
      },
      "source": [
        "import numpy as np\n",
        "import matplotlib.pyplot as plt"
      ],
      "execution_count": null,
      "outputs": []
    },
    {
      "cell_type": "markdown",
      "metadata": {
        "id": "6keYhcgi7nbf"
      },
      "source": [
        "# Function: load_gaussian_process_data\n",
        "\n",
        "This function loads the data for Gaussian Process Regression from a local drive into RAM\n",
        "\n",
        "Outputs:\n",
        "\n",
        "*   **train_inputs**: numpy array of N training data points x M features\n",
        "*   **train_targets**: numpy array of N training targets\n",
        "*   **test_inputs**: numpy array of N' test data points x M features\n",
        "*   **test_targets**: numpy array of N' test targets"
      ]
    },
    {
      "cell_type": "code",
      "metadata": {
        "id": "vcG5U2lR7utt"
      },
      "source": [
        "def load_gaussian_process_data():\n",
        "  test_inputs = np.genfromtxt('test_inputs.csv', delimiter=',')\n",
        "  test_targets = np.genfromtxt('test_targets.csv', delimiter=',')\n",
        "  train_inputs = np.genfromtxt('train_inputs.csv', delimiter=',')\n",
        "  train_targets = np.genfromtxt('train_targets.csv', delimiter=',')\n",
        "  return train_inputs, train_targets, test_inputs, test_targets"
      ],
      "execution_count": null,
      "outputs": []
    },
    {
      "cell_type": "markdown",
      "metadata": {
        "id": "GwLo3p4f8bTa"
      },
      "source": [
        "# Function: predict_gaussian_process\n",
        "\n",
        "This function computes the mean and variance of the Gaussian posterior distribution over the outputs given some inputs.\n",
        "\n",
        "Inputs:\n",
        "*   **inputs**: matrix of input data points for which we want to make a prediction (numpy array of N data points x M features)\n",
        "*   **posterior**: function that computes Gaussian posterior distributions over the outputs given some inputs\n",
        "\n",
        "Output:\n",
        "*   **mean**: vector of mean values (numpy array of N floats)\n",
        "*   **variance**: vector of variance values (numpy array of N floats)"
      ]
    },
    {
      "cell_type": "code",
      "metadata": {
        "id": "iX04_wClRqkV"
      },
      "source": [
        "def predict_gaussian_process(inputs, posterior):\n",
        "\n",
        "  # dummy assignment until the function is filled in\n",
        "  mean = np.zeros(inputs.shape[0])\n",
        "  variance = np.zeros(inputs.shape[0])\n",
        "  return mean, variance"
      ],
      "execution_count": null,
      "outputs": []
    },
    {
      "cell_type": "markdown",
      "metadata": {
        "id": "fmfPN7K0RtQ5"
      },
      "source": [
        "# Function eval_gaussian_process\n",
        "\n",
        "This function evaluates a set of predictions by computing the mean squared error with respect to the targets.  More precisely, compute the mean squared error between the means of the Gaussian posteriors and the targets. \n",
        "\n",
        "Inputs:\n",
        "*   **inputs**: matrix of input data points for which we will evaluate the predictions (numpy array of N data points x M features)\n",
        "*   **posterior**: function that computes Gaussian posterior distributions over the outputs given some inputs (function)\n",
        "*   **targets**: vector of targets associated with the inputs (numpy array of N targets)\n",
        "\n",
        "Output:\n",
        "*   **mean_squared_error**: mean squared error between the predicted Gaussian means and the targets (scalar)"
      ]
    },
    {
      "cell_type": "code",
      "metadata": {
        "id": "4ai8nJL1RR03",
        "outputId": "495a14d7-e041-4915-9ca0-32c55ba21002",
        "colab": {
          "base_uri": "https://localhost:8080/",
          "height": 34
        }
      },
      "source": [
        "A=np.array([[1,2],[3,4]])\n",
        "print(np.diagonal(A))"
      ],
      "execution_count": null,
      "outputs": [
        {
          "output_type": "stream",
          "text": [
            "[1 4]\n"
          ],
          "name": "stdout"
        }
      ]
    },
    {
      "cell_type": "code",
      "metadata": {
        "id": "-4c4nk1UY6Q5",
        "outputId": "5bc05ed2-d173-4f47-e142-49eddff4bf55",
        "colab": {
          "base_uri": "https://localhost:8080/",
          "height": 51
        }
      },
      "source": [
        "mu = np.array([10,100,1000])\n",
        "var = np.array([.1,.2,.3])\n",
        "s = np.random.normal(mu, var)\n",
        "print(s)\n",
        "print(len(s))"
      ],
      "execution_count": null,
      "outputs": [
        {
          "output_type": "stream",
          "text": [
            "[ 10.0375247   99.86629619 999.89511194]\n",
            "3\n"
          ],
          "name": "stdout"
        }
      ]
    },
    {
      "cell_type": "code",
      "metadata": {
        "id": "wC14LEsvTxbu"
      },
      "source": [
        "def eval_gaussian_process(inputs, posterior, targets):\n",
        "  mean, variance = posterior(inputs=inputs)\n",
        "  # dummy assignment until the function is filled in\n",
        "  # prediction = np.random.normal(mean, variance)\n",
        "  prediction = mean\n",
        "  \n",
        "  mean_squared_error = np.power(np.linalg.norm(prediction-targets),2)/len(prediction)\n",
        "  return mean_squared_error"
      ],
      "execution_count": null,
      "outputs": []
    },
    {
      "cell_type": "markdown",
      "metadata": {
        "id": "RMAzC5xXT0H-"
      },
      "source": [
        "# Function train_gaussian_process\n",
        "\n",
        "This function trains a Gaussian process.  More precisely, compute the inverse regularized gram matrix $(K+ \\sigma^2 I)^{-1}$ and then define a function that computes a posterior based on this inverse regularized gram matrix.\n",
        "\n",
        "Inputs:\n",
        "*   **train_inputs**: matrix of input training points (numpy array of N data points x M features)\n",
        "*   **train_targets**: vector of targets associated with the inputs (numpy array of N targets)\n",
        "*   **measurement_variance**: Variance $\\sigma^2$ of the measurement noise in the likelihood distribution $P({\\bf y}|{\\bf X},f) = N(f({\\bf X}),\\sigma^2{\\bf I})$ (scalar)\n",
        "*   **kernel**: function that computes the kernel between two sets of inputs (function)\n",
        "*   **kernel_param**: parameter for the kernel (scalar)\n",
        "\n",
        "Output:\n",
        "*   **posterior**: function that computes Gaussian posterior distributions over the outputs given some inputs (function)\n",
        "\n"
      ]
    },
    {
      "cell_type": "code",
      "metadata": {
        "id": "_DkzoT5QVy41"
      },
      "source": [
        "def train_gaussian_process(train_inputs, train_targets, measurement_variance, kernel, kernel_param):\n",
        "\n",
        "  if kernel == identity_kernel:  \n",
        "    gram_matrix = identity_kernel(train_inputs,train_inputs)\n",
        "  if kernel == polynomial_kernel:  \n",
        "    gram_matrix = polynomial_kernel(train_inputs,train_inputs,kernel_param)\n",
        "  if kernel == gaussian_kernel:  \n",
        "    gram_matrix = gaussian_kernel(train_inputs,train_inputs,kernel_param)\n",
        "  inverse_regularized_gram_matrix = np.linalg.inv(measurement_variance*np.identity(train_inputs.shape[0])+gram_matrix)\n",
        "  # define a function that computes a posterior distribution over the outputs given some inputs\n",
        "  # inputs: \n",
        "  #     inputs: matrix of input points for which we would like to predict a Gaussian over the outputs (numpy array of N' data points x M features)\n",
        "  #     train_inputs: matrix of train inputs that serve as evidence for the posterior (numpy array of N data points x M features)\n",
        "  #     train_targets: vector of train targets that serve as evidence for the posterior (numpy array of N targets)\n",
        "  #     inverse_regularized_gram_matrix: (K + sigma^2 I)^{-1}\n",
        "  # outputs:\n",
        "  #     mean: vector of Gaussian means for each prediction (numpy array of N' means)\n",
        "  #     variance: vector of Gaussian variances for each prediction (numpy array of N' variances)\n",
        "  def posterior(inputs, train_inputs=train_inputs, train_targets=train_targets, inverse_regularized_gram_matrix=inverse_regularized_gram_matrix, kernel=kernel):\n",
        "    if kernel == identity_kernel:  \n",
        "      mean = np.matmul(np.matmul(identity_kernel(inputs,train_inputs),inverse_regularized_gram_matrix),train_targets)\n",
        "      variance = np.zeros(inputs.shape[0])\n",
        "      for i in range(variance.shape[0]):\n",
        "        ax2 = np.matmul(np.matmul(identity_kernel(inputs[i,:],train_inputs),inverse_regularized_gram_matrix),identity_kernel(train_inputs,inputs[i,:]))\n",
        "        variance[i] = identity_kernel(inputs[i,:],inputs[i,:])-ax2 \n",
        "      # mean = np.matmul(np.matmul(identity_kernel(inputs,train_inputs),inverse_regularized_gram_matrix),train_targets)\n",
        "      # ax2 = np.matmul(np.matmul(identity_kernel(inputs,train_inputs),inverse_regularized_gram_matrix),identity_kernel(train_inputs,inputs))\n",
        "      # ax1 = identity_kernel(inputs,inputs)-ax2\n",
        "      # variance = np.diagonal(ax1)\n",
        "    if kernel == polynomial_kernel:  \n",
        "      mean = np.matmul(np.matmul(polynomial_kernel(inputs,train_inputs,kernel_param),inverse_regularized_gram_matrix),train_targets)\n",
        "      variance = np.zeros(inputs.shape[0])\n",
        "      for i in range(variance.shape[0]):\n",
        "        ax2 = np.matmul(np.matmul(polynomial_kernel(inputs[i,:],train_inputs,kernel_param),inverse_regularized_gram_matrix),polynomial_kernel(train_inputs,inputs[i,:],kernel_param))\n",
        "        variance[i] = polynomial_kernel(inputs[i,:],inputs[i,:],kernel_param)-ax2 \n",
        "        # if variance[i] <0:\n",
        "        #   print('i=   ',i)\n",
        "        #   ax2 = np.matmul(np.matmul(polynomial_kernel(inputs,train_inputs,kernel_param),inverse_regularized_gram_matrix),polynomial_kernel(train_inputs,inputs,kernel_param))\n",
        "        #   ax1 = polynomial_kernel(inputs,inputs,kernel_param)-ax2\n",
        "        #   ax = np.diagonal(ax1) \n",
        "        #   print('var_i_single =   ',variance[i])\n",
        "        #   print('var_i_batch  =   ',ax[i])\n",
        "\n",
        "\n",
        "      # ax2 = np.matmul(np.matmul(polynomial_kernel(inputs,train_inputs,kernel_param),inverse_regularized_gram_matrix),polynomial_kernel(train_inputs,inputs,kernel_param))\n",
        "      # ax1 = polynomial_kernel(inputs,inputs,kernel_param)-ax2\n",
        "      # variance = np.diagonal(ax1) \n",
        "      # for i in range(len(variance)):\n",
        "      #   if variance[i] <0:\n",
        "      #     print('i=   ',i)\n",
        "      #     ax2 = np.matmul(np.matmul(polynomial_kernel(inputs[i,:],train_inputs,kernel_param),inverse_regularized_gram_matrix),polynomial_kernel(train_inputs,inputs[i,:],kernel_param))\n",
        "      #     print('ax2=    ',ax2)\n",
        "      #     print('k.. =     ',polynomial_kernel(inputs[i,:],inputs[i,:],kernel_param))\n",
        "      #     print('var_i_single =   ',polynomial_kernel(inputs[i,:],inputs[i,:],kernel_param)-ax2)\n",
        "      #     print('var_i_batch  =   ',variance[i])\n",
        "\n",
        "\n",
        "    if kernel == gaussian_kernel:  \n",
        "      # mean = np.matmul(np.matmul(gaussian_kernel(inputs,train_inputs,kernel_param),inverse_regularized_gram_matrix),train_targets)\n",
        "      # variance = np.zeros(inputs.shape[0])\n",
        "      # for i in range(variance.shape[0]):\n",
        "      #   ax2 = np.matmul(np.matmul(gaussian_kernel(inputs[i,:],train_inputs,kernel_param),inverse_regularized_gram_matrix),gaussian_kernel(train_inputs,inputs[i,:],kernel_param))\n",
        "      #   variance[i] = gaussian_kernel(inputs[i,:],inputs[i,:],kernel_param)-ax2 \n",
        "      mean = np.matmul(np.matmul(gaussian_kernel(inputs,train_inputs,kernel_param),inverse_regularized_gram_matrix),train_targets)\n",
        "      ax2 = np.matmul(np.matmul(gaussian_kernel(inputs,train_inputs,kernel_param),inverse_regularized_gram_matrix),gaussian_kernel(train_inputs,inputs,kernel_param))\n",
        "      ax1 = gaussian_kernel(inputs,inputs,kernel_param)-ax2\n",
        "      variance = np.diagonal(ax1) \n",
        "    return mean, variance\n",
        "  return posterior"
      ],
      "execution_count": null,
      "outputs": []
    },
    {
      "cell_type": "markdown",
      "metadata": {
        "id": "M8h6kxL3qRkq"
      },
      "source": [
        "# Function identity_kernel\n",
        "\n",
        "This function computes the identity kernel: $k(x,x') = x^T x'$. \n",
        "\n",
        "Inputs:\n",
        "*   **inputs1**: matrix of input points (numpy array of N data points x M features)\n",
        "*   **inputs2**: matrix of input points (numpy array of N' data points x M features)\n",
        "*   **dummy_param**: this argument is never used since the identity kernel does not have any parameter (default value: None)\n",
        "\n",
        "Outputs:\n",
        "*   **gram_matrix**: matrix of kernel values (numpy array of N x N' values)"
      ]
    },
    {
      "cell_type": "code",
      "metadata": {
        "id": "Csr7VZB9qYyV"
      },
      "source": [
        "def identity_kernel(inputs1,inputs2,dummy_param=None):\n",
        "  gram_matrix = np.matmul(inputs1,inputs2.T)\n",
        "  return gram_matrix"
      ],
      "execution_count": null,
      "outputs": []
    },
    {
      "cell_type": "markdown",
      "metadata": {
        "id": "S8iSqek2sXBC"
      },
      "source": [
        "# Function polynomial_kernel\n",
        "\n",
        "This function computes the polynomial kernel: $k(x,x') = (x^T x' + 1)^d$. \n",
        "\n",
        "Inputs:\n",
        "*   **inputs1**: matrix of input points (numpy array of N data points x M features)\n",
        "*   **inputs2**: matrix of input points (numpy array of N' data points x M features)\n",
        "*   **degree**: exponent d in the kernel (integer)\n",
        "\n",
        "Outputs:\n",
        "*   **gram_matrix**: matrix of kernel values (numpy array of N x N' values)"
      ]
    },
    {
      "cell_type": "code",
      "metadata": {
        "id": "QwNTz4tcIP_3",
        "outputId": "fe9d145c-e4f9-44cc-96aa-6e90d94f61a6",
        "colab": {
          "base_uri": "https://localhost:8080/",
          "height": 51
        }
      },
      "source": [
        "A=np.array([[1,2,3],[-1,-2,-3]])\n",
        "print(A+1)"
      ],
      "execution_count": null,
      "outputs": [
        {
          "output_type": "stream",
          "text": [
            "[[ 2  3  4]\n",
            " [ 0 -1 -2]]\n"
          ],
          "name": "stdout"
        }
      ]
    },
    {
      "cell_type": "code",
      "metadata": {
        "id": "hS-afUBysZLx"
      },
      "source": [
        "def polynomial_kernel(inputs1,inputs2,degree):\n",
        "  gram_matrix = np.power((np.matmul(inputs1,inputs2.T)+1),degree)\n",
        "  return gram_matrix"
      ],
      "execution_count": null,
      "outputs": []
    },
    {
      "cell_type": "markdown",
      "metadata": {
        "id": "ImifaV1CtxZR"
      },
      "source": [
        "# Function gaussian_kernel\n",
        "\n",
        "This function computes the Gaussian kernel: $k(x,x') = e^{-\\frac{||x- x'||_2^2}{2w^2}}$. \n",
        "\n",
        "Inputs:\n",
        "*   **inputs1**: matrix of input points (numpy array of N data points x M features)\n",
        "*   **inputs2**: matrix of input points (numpy array of N' data points x M features)\n",
        "*   **width**: width w of the Gaussian kernel (scalar)\n",
        "\n",
        "Outputs:\n",
        "*   **gram_matrix**: matrix of kernel values (numpy array of N x N' values)"
      ]
    },
    {
      "cell_type": "code",
      "metadata": {
        "id": "Q7PadFLLt-hC"
      },
      "source": [
        "def gaussian_kernel(inputs1,inputs2,width):\n",
        "  np.matmul(inputs1,inputs2.T)\n",
        "  gram_matrix = np.zeros([inputs1.shape[0],inputs2.shape[0]])\n",
        "  for i in range(inputs1.shape[0]):\n",
        "    for j in range(inputs2.shape[0]):\n",
        "      gram_matrix[i,j] = np.exp(-np.power(np.linalg.norm(inputs1[i,:]-inputs2[j,:]),2)/(2*width*width))\n",
        "\n",
        "  ax = -2*np.matmul(inputs1,inputs2.T)+np.matmul(inputs1,inputs1.T)+np.matmul(inputs2,inputs2.T)\n",
        "\n",
        "  return gram_matrix"
      ],
      "execution_count": null,
      "outputs": []
    },
    {
      "cell_type": "markdown",
      "metadata": {
        "id": "VYIbLxX7V2DW"
      },
      "source": [
        "# Function cross_validation_gaussian_process\n",
        "\n",
        "This function performs k-fold cross validation to determine the best kernel parameter in Gaussian process regression\n",
        "\n",
        "Inputs:\n",
        "*   **k_folds**: # of folds in cross-validation (integer)\n",
        "*   **kernel**: function that computes a kernel (function)\n",
        "*   **hyperparameters**: list of parameters for the kernel (list of scalars)\n",
        "*   **inputs**: matrix of input points (numpy array of N data points by M features)\n",
        "*   **targets**: vector of targets associated with the inputs (numpy array of N targets)\n",
        "*   **measurement_variance**: Variance $\\sigma^2$ of the measurement noise in the likelihood distribution $P({\\bf y}|{\\bf X},f) = N(f({\\bf X}),\\sigma^2{\\bf I})$ (scalar)\n",
        "\n",
        "Outputs:\n",
        "*   **best_hyperparam**: best parameter for the kernel (scalar)\n",
        "*   **best_mean_squared_error**: mean squared error achieved with best_hyperparam (float)\n",
        "*   **mean_squared_errors**: vector of mean squared errors for the corresponding hyperparameters (numpy array of floats)\n",
        "\n"
      ]
    },
    {
      "cell_type": "code",
      "metadata": {
        "id": "_ZzoiZxLZMcV"
      },
      "source": [
        "def cross_validation_gaussian_process(k_folds, kernel, hyperparameters, inputs, targets, measurement_variance):\n",
        "  Train=np.concatenate((inputs,inputs),axis=0)\n",
        "  Label=np.concatenate((targets,targets),axis=0)\n",
        "  mean_squared_errors = np.zeros(len(hyperparameters))\n",
        "  for j in range(len(hyperparameters)):\n",
        "    l = hyperparameters[j]\n",
        "    fold_error = np.zeros(10)\n",
        "    for i in range(k_folds):\n",
        "      Val = Train[20*i:20*i+20,:]\n",
        "      Val_label = Label[20*i:20*i+20]\n",
        "      train = Train[20*i+20:20*i+200,:]\n",
        "      label = Label[20*i+20:20*i+200]\n",
        "      # predicted_label=np.zeros(Val.shape[0])\n",
        "      posterior = train_gaussian_process(train, label, measurement_variance, kernel, l)\n",
        "      mean,variance = posterior(inputs=Val)\n",
        "      try:\n",
        "        # prediction = np.random.normal(mean, variance)\n",
        "        prediction = mean\n",
        "      except:\n",
        "        print(j,i)\n",
        "      fold_error[i]=(np.power(np.linalg.norm(Val_label-prediction),2))/len(Val)\n",
        "    mean_squared_errors[j]=sum(fold_error)/10\n",
        "  A = np.argmin(mean_squared_errors)\n",
        "  best_hyperparam = hyperparameters[A]\n",
        "  best_mean_squared_error = np.amin(mean_squared_errors)\n",
        "  return best_hyperparam, best_mean_squared_error, mean_squared_errors"
      ],
      "execution_count": null,
      "outputs": []
    },
    {
      "cell_type": "markdown",
      "metadata": {
        "id": "_ah5AAayZfVU"
      },
      "source": [
        "# Function: plot_gaussian_process_mean_squared_errors\n",
        "\n",
        "Function that plots the mean squared errors for different hyperparameters in Gaussian process regression based on cross validation\n",
        "\n",
        "Inputs:\n",
        "*   **mean_squared_errors**: vector of mean squared errors for the corresponding hyperparameters (numpy array of floats)\n",
        "*   **hyperparams**: list of hyperparameters where each hyperparameter is a different lambda value (list of floats)\n",
        "*   **xlabel**: string to label the x-axis (string)"
      ]
    },
    {
      "cell_type": "code",
      "metadata": {
        "id": "cUkffk9sgAqk",
        "outputId": "123d7c02-a914-4b42-c120-861bb8f3b1a4",
        "colab": {
          "base_uri": "https://localhost:8080/",
          "height": 68
        }
      },
      "source": [
        "A=np.identity(3)\n",
        "print(3*A)"
      ],
      "execution_count": null,
      "outputs": [
        {
          "output_type": "stream",
          "text": [
            "[[3. 0. 0.]\n",
            " [0. 3. 0.]\n",
            " [0. 0. 3.]]\n"
          ],
          "name": "stdout"
        }
      ]
    },
    {
      "cell_type": "code",
      "metadata": {
        "id": "dh9qZuzMatsZ"
      },
      "source": [
        "def plot_gaussian_process_mean_squared_errors(mean_squared_errors,hyperparams,xlabel):\n",
        "  plt.plot(hyperparams,mean_squared_errors)\n",
        "  plt.ylabel('mean squared error')\n",
        "  plt.xlabel(xlabel)\n",
        "  plt.show()\n",
        "  "
      ],
      "execution_count": null,
      "outputs": []
    },
    {
      "cell_type": "markdown",
      "metadata": {
        "id": "s21LRP5Qb3m8"
      },
      "source": [
        "# Main Gaussian Process code\n",
        "\n",
        "Load data.  Then evaluate the identity kernel, polynomial kernel and Gaussian kernel.\n"
      ]
    },
    {
      "cell_type": "code",
      "metadata": {
        "id": "GUUOJ3fWhulS",
        "outputId": "bc762f31-d8cf-40a8-e67a-d1cdc537be4d",
        "colab": {
          "base_uri": "https://localhost:8080/",
          "height": 34
        }
      },
      "source": [
        "A=np.array([1,2,3,4,5,6,7,8,9]);\n",
        "B=A[0:5]\n",
        "print(B)"
      ],
      "execution_count": null,
      "outputs": [
        {
          "output_type": "stream",
          "text": [
            "[1 2 3 4 5]\n"
          ],
          "name": "stdout"
        }
      ]
    },
    {
      "cell_type": "code",
      "metadata": {
        "id": "njlK2bf7sycQ",
        "outputId": "fc19c406-f0b2-4cd6-8078-5a97f6d86feb",
        "colab": {
          "base_uri": "https://localhost:8080/",
          "height": 762
        }
      },
      "source": [
        "# load data\n",
        "train_inputs, train_targets, test_inputs, test_targets = load_gaussian_process_data()\n",
        "\n",
        "# likelihood parameter (see definition of train_gaussian_process for more details)\n",
        "measurement_variance = 1\n",
        "\n",
        "# number of folds in k-fold cross validation\n",
        "k_folds = 10\n",
        "\n",
        "# identity kernel\n",
        "print('\\nIdentity Kernel')\n",
        "posterior = train_gaussian_process(train_inputs, train_targets, measurement_variance, identity_kernel, None)\n",
        "mean_squared_error = eval_gaussian_process(test_inputs, posterior, test_targets)\n",
        "print('test mean squared error with identity kernel: ' + str(mean_squared_error))\n",
        "\n",
        "# polynomial kernel\n",
        "print('\\nPolynomial Kernel')\n",
        "# degrees to be evaluated by cross validation\n",
        "hyperparams = range(1,21)\n",
        "best_degree, best_mean_squared_error, mean_squared_errors = \\\n",
        "  cross_validation_gaussian_process(k_folds,polynomial_kernel,hyperparams,train_inputs,train_targets,measurement_variance)\n",
        "plot_gaussian_process_mean_squared_errors(mean_squared_errors,hyperparams,'degree')\n",
        "print('best degree: ' + str (best_degree))\n",
        "print('best cross validation mean squared error: ' + str(best_mean_squared_error))\n",
        "posterior = train_gaussian_process(train_inputs, train_targets, measurement_variance, polynomial_kernel, best_degree)\n",
        "mean_squared_error = eval_gaussian_process(test_inputs, posterior, test_targets)\n",
        "print('test mean squared error with polynomial kernel: ' + str(mean_squared_error))\n",
        "\n",
        "# gaussian kernel\n",
        "print('\\nGaussian Kernel')\n",
        "# gaussian widths to be evaluated by cross validation\n",
        "hyperparams = [0.1, 0.2, 0.3, 0.4, 0.5, 0.6, 0.7, 0.8, 0.9, 1.0]\n",
        "best_width, best_mean_squared_error, mean_squared_errors = \\\n",
        "  cross_validation_gaussian_process(k_folds,gaussian_kernel,hyperparams,train_inputs,train_targets,measurement_variance)\n",
        "plot_gaussian_process_mean_squared_errors(mean_squared_errors,hyperparams,'width')\n",
        "print('best width: ' + str (best_width))\n",
        "print('best cross validation mean squared error: ' + str(best_mean_squared_error))\n",
        "posterior = train_gaussian_process(train_inputs, train_targets, measurement_variance, gaussian_kernel, best_width)\n",
        "mean_squared_error = eval_gaussian_process(test_inputs, posterior, test_targets)\n",
        "print('test mean squared error with Gaussian kernel: ' + str(mean_squared_error))"
      ],
      "execution_count": null,
      "outputs": [
        {
          "output_type": "stream",
          "text": [
            "\n",
            "Identity Kernel\n",
            "test mean squared error with identity kernel: 3.5905532967984706\n",
            "\n",
            "Polynomial Kernel\n"
          ],
          "name": "stdout"
        },
        {
          "output_type": "display_data",
          "data": {
            "image/png": "[encoded data removed]",
            "text/plain": [
              "<Figure size 432x288 with 1 Axes>"
            ]
          },
          "metadata": {
            "tags": [],
            "needs_background": "light"
          }
        },
        {
          "output_type": "stream",
          "text": [
            "best degree: 11\n",
            "best cross validation mean squared error: 0.03437116255867867\n",
            "test mean squared error with polynomial kernel: 0.030292768489878573\n",
            "\n",
            "Gaussian Kernel\n"
          ],
          "name": "stdout"
        },
        {
          "output_type": "display_data",
          "data": {
            "image/png": "[encoded data removed]",
            "text/plain": [
              "<Figure size 432x288 with 1 Axes>"
            ]
          },
          "metadata": {
            "tags": [],
            "needs_background": "light"
          }
        },
        {
          "output_type": "stream",
          "text": [
            "best width: 0.4\n",
            "best cross validation mean squared error: 0.057148773975383274\n",
            "test mean squared error with Gaussian kernel: 0.04302516166820037\n"
          ],
          "name": "stdout"
        }
      ]
    },
    {
      "cell_type": "markdown",
      "metadata": {
        "id": "uhS21VUedYRu"
      },
      "source": [
        "# **Gaussian Process time complexity:**\n",
        "According to the lecture notes and link (https://arxiv.org/pdf/1807.01065.pdf) the time complexity of a guassion process is on the inverse calculation and it is equal to O(n^3) here n is the number of training data which in this code is equal to N. O(N^3)"
      ]
    }
  ]
}