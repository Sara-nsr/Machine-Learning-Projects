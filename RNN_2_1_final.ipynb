{
  "nbformat": 4,
  "nbformat_minor": 0,
  "metadata": {
    "colab": {
      "name": "RNN_Sara_2 (1).ipynb",
      "provenance": [],
      "collapsed_sections": []
    },
    "language_info": {
      "codemirror_mode": {
        "name": "ipython",
        "version": 3
      },
      "file_extension": ".py",
      "mimetype": "text/x-python",
      "name": "python",
      "nbconvert_exporter": "python",
      "pygments_lexer": "ipython3",
      "version": "3.6.6"
    },
    "kernelspec": {
      "name": "python3",
      "display_name": "Python 3"
    },
    "accelerator": "GPU"
  },
  "cells": [
    {
      "cell_type": "markdown",
      "metadata": {
        "id": "SjndRzjVTDSx"
      },
      "source": [
        "Download data"
      ]
    },
    {
      "cell_type": "code",
      "metadata": {
        "id": "HeeD4VZ0TBm9",
        "outputId": "c3b6f1cd-d1f9-4801-961b-03a3a79cbc42",
        "colab": {
          "base_uri": "https://localhost:8080/"
        }
      },
      "source": [
        "!wget https://download.pytorch.org/tutorial/data.zip\n",
        "!unzip data.zip\n",
        "!ls"
      ],
      "execution_count": 1,
      "outputs": [
        {
          "output_type": "stream",
          "text": [
            "--2020-11-10 03:48:54--  https://download.pytorch.org/tutorial/data.zip\n",
            "Resolving download.pytorch.org (download.pytorch.org)... 13.32.204.49, 13.32.204.34, 13.32.204.65, ...\n",
            "Connecting to download.pytorch.org (download.pytorch.org)|13.32.204.49|:443... connected.\n",
            "HTTP request sent, awaiting response... 200 OK\n",
            "Length: 2882130 (2.7M) [application/zip]\n",
            "Saving to: ‘data.zip.1’\n",
            "\n",
            "\rdata.zip.1            0%[                    ]       0  --.-KB/s               \rdata.zip.1          100%[===================>]   2.75M  --.-KB/s    in 0.05s   \n",
            "\n",
            "2020-11-10 03:48:54 (50.5 MB/s) - ‘data.zip.1’ saved [2882130/2882130]\n",
            "\n",
            "Archive:  data.zip\n",
            "replace data/eng-fra.txt? [y]es, [n]o, [A]ll, [N]one, [r]ename: N\n",
            "char_rnn_generation_model2.pt  char_rnn_generation_model.pt  data.zip.1\n",
            "char_rnn_generation_model3.pt  data\t\t\t     sample_data\n",
            "char_rnn_generation_model4.pt  data.zip\n"
          ],
          "name": "stdout"
        }
      ]
    },
    {
      "cell_type": "code",
      "metadata": {
        "id": "4tSGA3X6dURt"
      },
      "source": [
        "%matplotlib inline"
      ],
      "execution_count": 2,
      "outputs": []
    },
    {
      "cell_type": "markdown",
      "metadata": {
        "id": "MRMSa-PEdURy"
      },
      "source": [
        "\n",
        "Generating Names with a Character-Level RNN\n",
        "*******************************************\n",
        "**Author**: `Sean Robertson <https://github.com/spro/practical-pytorch>`_\n",
        "\n",
        "In the :doc:`last tutorial </intermediate/char_rnn_classification_tutorial>`\n",
        "we used a RNN to classify names into their language of origin. This time\n",
        "we'll turn around and generate names from languages.\n",
        "\n",
        "::\n",
        "\n",
        "    > python sample.py Russian RUS\n",
        "    Rovakov\n",
        "    Uantov\n",
        "    Shavakov\n",
        "\n",
        "    > python sample.py German GER\n",
        "    Gerren\n",
        "    Ereng\n",
        "    Rosher\n",
        "\n",
        "    > python sample.py Spanish SPA\n",
        "    Salla\n",
        "    Parer\n",
        "    Allan\n",
        "\n",
        "    > python sample.py Chinese CHI\n",
        "    Chan\n",
        "    Hang\n",
        "    Iun\n",
        "\n",
        "We are still hand-crafting a small RNN with a few linear layers. The big\n",
        "difference is instead of predicting a category after reading in all the\n",
        "letters of a name, we input a category and output one letter at a time.\n",
        "Recurrently predicting characters to form language (this could also be\n",
        "done with words or other higher order constructs) is often referred to\n",
        "as a \"language model\".\n",
        "\n",
        "**Recommended Reading:**\n",
        "\n",
        "I assume you have at least installed PyTorch, know Python, and\n",
        "understand Tensors:\n",
        "\n",
        "-  http://pytorch.org/ For installation instructions\n",
        "-  :doc:`/beginner/deep_learning_60min_blitz` to get started with PyTorch in general\n",
        "-  :doc:`/beginner/pytorch_with_examples` for a wide and deep overview\n",
        "-  :doc:`/beginner/former_torchies_tutorial` if you are former Lua Torch user\n",
        "\n",
        "It would also be useful to know about RNNs and how they work:\n",
        "\n",
        "-  `The Unreasonable Effectiveness of Recurrent Neural\n",
        "   Networks <http://karpathy.github.io/2015/05/21/rnn-effectiveness/>`__\n",
        "   shows a bunch of real life examples\n",
        "-  `Understanding LSTM\n",
        "   Networks <http://colah.github.io/posts/2015-08-Understanding-LSTMs/>`__\n",
        "   is about LSTMs specifically but also informative about RNNs in\n",
        "   general\n",
        "\n",
        "I also suggest the previous tutorial, :doc:`/intermediate/char_rnn_classification_tutorial`\n",
        "\n",
        "\n",
        "Preparing the Data\n",
        "==================\n",
        "\n",
        ".. Note::\n",
        "   Download the data from\n",
        "   `here <https://download.pytorch.org/tutorial/data.zip>`_\n",
        "   and extract it to the current directory.\n",
        "\n",
        "See the last tutorial for more detail of this process. In short, there\n",
        "are a bunch of plain text files ``data/names/[Language].txt`` with a\n",
        "name per line. We split lines into an array, convert Unicode to ASCII,\n",
        "and end up with a dictionary ``{language: [names ...]}``.\n",
        "\n",
        "\n"
      ]
    },
    {
      "cell_type": "code",
      "metadata": {
        "id": "yivWZ-QrdURz",
        "outputId": "66ff93a2-4a56-4441-c6d7-c3f248a1699c",
        "colab": {
          "base_uri": "https://localhost:8080/"
        }
      },
      "source": [
        "from __future__ import unicode_literals, print_function, division\n",
        "from io import open\n",
        "import glob\n",
        "import os\n",
        "import unicodedata\n",
        "import string\n",
        "import math\n",
        "import random\n",
        "\n",
        "all_letters = string.ascii_letters + \" .,;'-\"\n",
        "n_letters = len(all_letters) + 1 # Plus EOS marker\n",
        "\n",
        "def findFiles(path): return glob.glob(path)\n",
        "\n",
        "# Turn a Unicode string to plain ASCII, thanks to http://stackoverflow.com/a/518232/2809427\n",
        "def unicodeToAscii(s):\n",
        "    return ''.join(\n",
        "        c for c in unicodedata.normalize('NFD', s)\n",
        "        if unicodedata.category(c) != 'Mn'\n",
        "        and c in all_letters\n",
        "    )\n",
        "\n",
        "# Read a file and split into lines\n",
        "def readLines(filename):\n",
        "    lines = open(filename, encoding='utf-8').read().strip().split('\\n')\n",
        "    return [unicodeToAscii(line) for line in lines]\n",
        "\n",
        "# Build the category_lines dictionary, a list of lines per category\n",
        "category_lines = {}\n",
        "train_data = {}\n",
        "validation_data = {}\n",
        "test_data = {}\n",
        "all_categories = []\n",
        "for filename in findFiles('data/names/*.txt'):\n",
        "    category = os.path.splitext(os.path.basename(filename))[0]\n",
        "    all_categories.append(category)\n",
        "    lines = readLines(filename)\n",
        "    random.shuffle(lines)\n",
        "    train_data[category] = lines[0:int(math.floor(0.7*len(lines)))]\n",
        "    validation_data[category] = lines[int(math.floor(0.7*len(lines)))+1:int(math.floor(0.85*len(lines)))]\n",
        "    test_data[category] = lines[int(math.floor(0.85*len(lines)))+1:]\n",
        "    category_lines[category] = lines\n",
        "\n",
        "n_categories = len(all_categories)\n",
        "\n",
        "if n_categories == 0:\n",
        "    raise RuntimeError('Data not found. Make sure that you downloaded data '\n",
        "        'from https://download.pytorch.org/tutorial/data.zip and extract it to '\n",
        "        'the current directory.')\n",
        "\n",
        "print('# categories:', n_categories, all_categories)\n",
        "print(unicodeToAscii(\"O'Néàl\"))"
      ],
      "execution_count": 3,
      "outputs": [
        {
          "output_type": "stream",
          "text": [
            "# categories: 18 ['Italian', 'Korean', 'Czech', 'English', 'French', 'Vietnamese', 'Arabic', 'Russian', 'Greek', 'Dutch', 'German', 'Japanese', 'Spanish', 'Polish', 'Scottish', 'Chinese', 'Portuguese', 'Irish']\n",
            "O'Neal\n"
          ],
          "name": "stdout"
        }
      ]
    },
    {
      "cell_type": "markdown",
      "metadata": {
        "id": "MlY6De-4dUR1"
      },
      "source": [
        "\n",
        "\n",
        "```\n",
        "# This is formatted as code\n",
        "```\n",
        "\n",
        "Creating the Network i\n",
        "====================\n",
        "\n",
        "This network extends `the last tutorial's RNN <#Creating-the-Network>`__\n",
        "with an extra argument for the category tensor, which is concatenated\n",
        "along with the others. The category tensor is a one-hot vector just like\n",
        "the letter input.\n",
        "\n",
        "We will interpret the output as the probability of the next letter. When\n",
        "sampling, the most likely output letter is used as the next input\n",
        "letter.\n",
        "\n",
        "I added a second linear layer ``o2o`` (after combining hidden and\n",
        "output) to give it more muscle to work with. There's also a dropout\n",
        "layer, which `randomly zeros parts of its\n",
        "input <https://arxiv.org/abs/1207.0580>`__ with a given probability\n",
        "(here 0.1) and is usually used to fuzz inputs to prevent overfitting.\n",
        "Here we're using it towards the end of the network to purposely add some\n",
        "chaos and increase sampling variety.\n",
        "\n",
        ".. figure:: https://i.imgur.com/jzVrf7f.png\n",
        "   :alt:\n",
        "\n",
        "\n",
        "\n"
      ]
    },
    {
      "cell_type": "code",
      "metadata": {
        "id": "B3Y0aicRdUR2"
      },
      "source": [
        "import torch\n",
        "import torch.nn as nn\n",
        "from torch.autograd import Variable\n",
        "\n",
        "class RNN1(nn.Module):\n",
        "    def __init__(self, input_size, hidden_size, output_size):\n",
        "        super(RNN1, self).__init__()\n",
        "        self.hidden_size = hidden_size\n",
        "\n",
        "        self.i2h = nn.Linear(n_categories + input_size + hidden_size, hidden_size)\n",
        "        self.i2o = nn.Linear(n_categories + input_size + hidden_size, output_size)\n",
        "        self.o2o = nn.Linear(hidden_size + output_size, output_size)\n",
        "        self.dropout = nn.Dropout(0.1)\n",
        "        self.softmax = nn.LogSoftmax(dim=1)\n",
        "\n",
        "    def forward(self, category, input, hidden):\n",
        "        input_combined = torch.cat((category, input, hidden), 1)\n",
        "        hidden = self.i2h(input_combined)\n",
        "        output = self.i2o(input_combined)\n",
        "        output_combined = torch.cat((hidden, output), 1)\n",
        "        output = self.o2o(output_combined)\n",
        "        output = self.dropout(output)\n",
        "        output = self.softmax(output)\n",
        "        return output, hidden\n",
        "\n",
        "    def initHidden(self):\n",
        "        return torch.zeros(1, self.hidden_size)"
      ],
      "execution_count": 4,
      "outputs": []
    },
    {
      "cell_type": "markdown",
      "metadata": {
        "id": "-f_zTkMSdUR4"
      },
      "source": [
        "Training\n",
        "=========\n",
        "Preparing for Training\n",
        "----------------------\n",
        "\n",
        "First of all, helper functions to get random pairs of (category, line):\n",
        "\n",
        "\n"
      ]
    },
    {
      "cell_type": "code",
      "metadata": {
        "id": "mJ4453vLdUR5"
      },
      "source": [
        "import random\n",
        "\n",
        "# Random item from a list\n",
        "def randomChoice(l):\n",
        "    return l[random.randint(0, len(l) - 1)]\n",
        "\n",
        "# Get a random category and random line from that category\n",
        "def randomTrainingPair():\n",
        "    category = randomChoice(all_categories)\n",
        "    line = randomChoice(train_data[category])\n",
        "    return category, line"
      ],
      "execution_count": 5,
      "outputs": []
    },
    {
      "cell_type": "markdown",
      "metadata": {
        "id": "9l7cNuyJdUR7"
      },
      "source": [
        "For each timestep (that is, for each letter in a training word) the\n",
        "inputs of the network will be\n",
        "``(category, current letter, hidden state)`` and the outputs will be\n",
        "``(next letter, next hidden state)``. So for each training set, we'll\n",
        "need the category, a set of input letters, and a set of output/target\n",
        "letters.\n",
        "\n",
        "Since we are predicting the next letter from the current letter for each\n",
        "timestep, the letter pairs are groups of consecutive letters from the\n",
        "line - e.g. for ``\"ABCD<EOS>\"`` we would create (\"A\", \"B\"), (\"B\", \"C\"),\n",
        "(\"C\", \"D\"), (\"D\", \"EOS\").\n",
        "\n",
        ".. figure:: https://i.imgur.com/JH58tXY.png\n",
        "   :alt:\n",
        "\n",
        "The category tensor is a `one-hot\n",
        "tensor <https://en.wikipedia.org/wiki/One-hot>`__ of size\n",
        "``<1 x n_categories>``. When training we feed it to the network at every\n",
        "timestep - this is a design choice, it could have been included as part\n",
        "of initial hidden state or some other strategy.\n",
        "\n",
        "\n"
      ]
    },
    {
      "cell_type": "code",
      "metadata": {
        "id": "XiLZFiyddUR7"
      },
      "source": [
        "# One-hot vector for category\n",
        "def categoryTensor(category):\n",
        "    li = all_categories.index(category)\n",
        "    tensor = torch.zeros(1, n_categories)\n",
        "    tensor[0][li] = 1\n",
        "    return tensor\n",
        "\n",
        "# One-hot matrix of first to last letters (not including EOS) for input\n",
        "def inputTensor(line):\n",
        "    tensor = torch.zeros(len(line), 1, n_letters)\n",
        "    for li in range(len(line)):\n",
        "        letter = line[li]\n",
        "        tensor[li][0][all_letters.find(letter)] = 1\n",
        "    return tensor\n",
        "\n",
        "# LongTensor of second letter to end (EOS) for target\n",
        "def targetTensor(line):\n",
        "    letter_indexes = [all_letters.find(line[li]) for li in range(1, len(line))]\n",
        "    letter_indexes.append(n_letters - 1) # EOS\n",
        "    return torch.LongTensor(letter_indexes)"
      ],
      "execution_count": 6,
      "outputs": []
    },
    {
      "cell_type": "markdown",
      "metadata": {
        "id": "SlrGrMi0dUR-"
      },
      "source": [
        "For convenience during training we'll make a ``randomTrainingExample``\n",
        "function that fetches a random (category, line) pair and turns them into\n",
        "the required (category, input, target) tensors.\n",
        "\n",
        "\n"
      ]
    },
    {
      "cell_type": "code",
      "metadata": {
        "id": "G8WKEzgLdUR_"
      },
      "source": [
        "# Make category, input, and target tensors from a random category, line pair\n",
        "def randomTrainingExample():\n",
        "    category, line = randomTrainingPair()\n",
        "    category_tensor = categoryTensor(category)\n",
        "    input_line_tensor = inputTensor(line)\n",
        "    target_line_tensor = targetTensor(line)\n",
        "    return category_tensor, input_line_tensor, target_line_tensor"
      ],
      "execution_count": 7,
      "outputs": []
    },
    {
      "cell_type": "markdown",
      "metadata": {
        "id": "AdFYtchcdUSB"
      },
      "source": [
        "Training the Network i\n",
        "--------------------\n",
        "\n",
        "In contrast to classification, where only the last output is used, we\n",
        "are making a prediction at every step, so we are calculating loss at\n",
        "every step.\n",
        "\n",
        "The magic of autograd allows you to simply sum these losses at each step\n",
        "and call backward at the end.\n",
        "\n",
        "\n"
      ]
    },
    {
      "cell_type": "code",
      "metadata": {
        "id": "a9WcN0iMdUSB"
      },
      "source": [
        "criterion = nn.NLLLoss()\n",
        "\n",
        "def train1(category_tensor, input_line_tensor, target_line_tensor):\n",
        "    target_line_tensor.unsqueeze_(-1)\n",
        "    hidden = rnn.initHidden()\n",
        "\n",
        "    rnn.zero_grad()\n",
        "\n",
        "    loss = 0\n",
        "\n",
        "    for i in range(input_line_tensor.size(0)):\n",
        "        output, hidden = rnn(category_tensor, input_line_tensor[i], hidden)\n",
        "        l = criterion(output, target_line_tensor[i])\n",
        "        loss += l\n",
        "\n",
        "    # compute the gradient by backpropagation\n",
        "    loss.backward()\n",
        "\n",
        "    # update the parameters\n",
        "    optimizer.step()\n",
        "\n",
        "    return output, loss.item() / input_line_tensor.size(0)"
      ],
      "execution_count": 8,
      "outputs": []
    },
    {
      "cell_type": "markdown",
      "metadata": {
        "id": "sxerzd5cdUSE"
      },
      "source": [
        "To keep track of how long training takes I am adding a\n",
        "``timeSince(timestamp)`` function which returns a human readable string:\n",
        "\n",
        "\n"
      ]
    },
    {
      "cell_type": "code",
      "metadata": {
        "id": "CgynvRVzdUSE"
      },
      "source": [
        "import time\n",
        "import math\n",
        "\n",
        "def timeSince(since):\n",
        "    now = time.time()\n",
        "    s = now - since\n",
        "    m = math.floor(s / 60)\n",
        "    s -= m * 60\n",
        "    return '%dm %ds' % (m, s)"
      ],
      "execution_count": 9,
      "outputs": []
    },
    {
      "cell_type": "code",
      "metadata": {
        "id": "VpSLff2TdUSI",
        "outputId": "b26bbfbd-d64f-4023-e819-d680b195a23a",
        "colab": {
          "base_uri": "https://localhost:8080/"
        }
      },
      "source": [
        "rnn = RNN1(n_letters, 128, n_letters)\n",
        "optimizer = torch.optim.Adam(rnn.parameters())\n",
        "\n",
        "\n",
        "n_iters = 40000\n",
        "print_every = 2500\n",
        "plot_every = 500\n",
        "all_train_losses_i = []\n",
        "all_validation_losses_i = []\n",
        "train_loss = 0 # Reset every plot_every iters\n",
        "\n",
        "# Just return an output given a line\n",
        "def evaluate1(category_tensor, input_line_tensor, target_line_tensor):\n",
        "    target_line_tensor.unsqueeze_(-1)\n",
        "    hidden = rnn.initHidden()\n",
        "    loss = 0\n",
        "    for i in range(input_line_tensor.size()[0]):\n",
        "      output, hidden = rnn(category_tensor, input_line_tensor[i], hidden)\n",
        "      loss += criterion(output, target_line_tensor[i])\n",
        "    return output, loss.item() / input_line_tensor.size(0)\n",
        "\n",
        "def eval_dataset1(dataset):\n",
        "    total_loss = 0\n",
        "    n_instances = 0\n",
        "    for category in all_categories:\n",
        "        category_tensor = Variable(categoryTensor(category))\n",
        "        n_instances += len(dataset[category])\n",
        "        for line in dataset[category]:\n",
        "            input_line_tensor = Variable(inputTensor(line))\n",
        "            target_line_tensor = Variable(targetTensor(line))\n",
        "            output, loss = evaluate1(category_tensor, input_line_tensor, target_line_tensor)\n",
        "            total_loss += loss\n",
        "    return total_loss / n_instances\n",
        "\n",
        "start = time.time()\n",
        "print('\\nIter_i \\tTrain% \\tTime \\t\\tTrain_loss')\n",
        "for iter in range(1, n_iters + 1):\n",
        "    output, loss = train1(*randomTrainingExample())\n",
        "    train_loss += loss\n",
        "\n",
        "    if iter % print_every == 0:\n",
        "        print('%d \\t%d%% \\t(%s) \\t%.4f' % (iter, iter / n_iters * 100, timeSince(start), train_loss / plot_every))\n",
        "\n",
        "    if iter % plot_every == 0:\n",
        "        all_train_losses_i.append(train_loss / plot_every)\n",
        "        train_loss = 0\n",
        "        \n",
        "    # Compute loss based on validation data\n",
        "    if iter % plot_every == 0:\n",
        "        average_validation_loss = eval_dataset1(validation_data)\n",
        "\n",
        "        # save model with best validation loss\n",
        "        if len(all_validation_losses_i) == 0 or average_validation_loss < min(all_validation_losses_i):\n",
        "            torch.save(rnn, 'char_rnn_generation_model.pt')\n",
        "        all_validation_losses_i.append(average_validation_loss)"
      ],
      "execution_count": 10,
      "outputs": [
        {
          "output_type": "stream",
          "text": [
            "\n",
            "Iter_i \tTrain% \tTime \t\tTrain_loss\n",
            "2500 \t6% \t(0m 30s) \t2.4517\n",
            "5000 \t12% \t(1m 5s) \t2.2959\n",
            "7500 \t18% \t(1m 41s) \t2.2982\n",
            "10000 \t25% \t(2m 17s) \t2.2924\n",
            "12500 \t31% \t(2m 52s) \t2.2958\n",
            "15000 \t37% \t(3m 27s) \t2.2466\n",
            "17500 \t43% \t(4m 2s) \t2.2157\n",
            "20000 \t50% \t(4m 38s) \t2.2684\n",
            "22500 \t56% \t(5m 14s) \t2.2450\n",
            "25000 \t62% \t(5m 49s) \t2.2837\n",
            "27500 \t68% \t(6m 23s) \t2.2509\n",
            "30000 \t75% \t(6m 57s) \t2.2288\n",
            "32500 \t81% \t(7m 30s) \t2.2303\n",
            "35000 \t87% \t(8m 2s) \t2.2598\n",
            "37500 \t93% \t(8m 34s) \t2.2084\n",
            "40000 \t100% \t(9m 5s) \t2.1824\n"
          ],
          "name": "stdout"
        }
      ]
    },
    {
      "cell_type": "markdown",
      "metadata": {
        "id": "MZtYN-W7o3ZT"
      },
      "source": [
        "# Creating the Network ii\n"
      ]
    },
    {
      "cell_type": "code",
      "metadata": {
        "id": "V0F7O_leT1p1"
      },
      "source": [
        "import torch\n",
        "import torch.nn as nn\n",
        "from torch.autograd import Variable\n",
        "\n",
        "class RNN2(nn.Module):\n",
        "    def __init__(self, input_size, hidden_size, output_size):\n",
        "        super(RNN2, self).__init__()\n",
        "        self.hidden_size = hidden_size\n",
        "\n",
        "        self.i2h_withCat = nn.Linear(n_categories + input_size + hidden_size, hidden_size)\n",
        "        self.i2h = nn.Linear( input_size + hidden_size, hidden_size)\n",
        "        self.i2o_withCat = nn.Linear(n_categories+input_size + hidden_size, output_size)\n",
        "        self.i2o = nn.Linear( input_size + hidden_size, output_size)\n",
        "        self.o2o = nn.Linear(hidden_size + output_size, output_size)\n",
        "        self.dropout = nn.Dropout(0.1)\n",
        "        self.softmax = nn.LogSoftmax(dim=1)\n",
        "\n",
        "    def forward(self, category, input, hidden):\n",
        "        input_combined = torch.cat((input, hidden), 1)\n",
        "        hidden = self.i2h(input_combined)\n",
        "        output = self.i2o(input_combined)\n",
        "        output_combined = torch.cat((hidden, output), 1)\n",
        "        output = self.o2o(output_combined)\n",
        "        output = self.dropout(output)\n",
        "        output = self.softmax(output)\n",
        "        return output, hidden\n",
        "\n",
        "    def forwardWithCat(self, category, input, hidden):\n",
        "        input_combined = torch.cat((category,input, hidden), 1)\n",
        "        hidden = self.i2h_withCat(input_combined)\n",
        "        output = self.i2o_withCat(input_combined)\n",
        "        output_combined = torch.cat((hidden, output), 1)\n",
        "        output = self.o2o(output_combined)\n",
        "        output = self.dropout(output)\n",
        "        output = self.softmax(output)\n",
        "        return output, hidden\n",
        "\n",
        "    def initHidden(self):\n",
        "        return torch.zeros(1, self.hidden_size)"
      ],
      "execution_count": 11,
      "outputs": []
    },
    {
      "cell_type": "markdown",
      "metadata": {
        "id": "h2eUzb4toK8E"
      },
      "source": [
        "# Training the Network ii"
      ]
    },
    {
      "cell_type": "code",
      "metadata": {
        "id": "SjJnxEotUTPp"
      },
      "source": [
        "criterion = nn.NLLLoss()\n",
        "\n",
        "def train2(category_tensor, input_line_tensor, target_line_tensor):\n",
        "    target_line_tensor.unsqueeze_(-1)\n",
        "    hidden = rnn.initHidden()\n",
        "\n",
        "    rnn.zero_grad()\n",
        "\n",
        "    loss = 0\n",
        "\n",
        "    for i in range(input_line_tensor.size(0)):\n",
        "        if i==0:\n",
        "          output, hidden = rnn.forwardWithCat(category_tensor, input_line_tensor[i], hidden)\n",
        "        else:\n",
        "          output, hidden = rnn.forward(category_tensor, input_line_tensor[i], hidden)\n",
        "        l = criterion(output, target_line_tensor[i])\n",
        "        loss += l\n",
        "\n",
        "    # compute the gradient by backpropagation\n",
        "    loss.backward()\n",
        "\n",
        "    # update the parameters\n",
        "    optimizer.step()\n",
        "\n",
        "    return output, loss.item() / input_line_tensor.size(0)"
      ],
      "execution_count": 12,
      "outputs": []
    },
    {
      "cell_type": "code",
      "metadata": {
        "id": "M0_WyDZHUXh_"
      },
      "source": [
        "import time\n",
        "import math\n",
        "\n",
        "def timeSince(since):\n",
        "    now = time.time()\n",
        "    s = now - since\n",
        "    m = math.floor(s / 60)\n",
        "    s -= m * 60\n",
        "    return '%dm %ds' % (m, s)"
      ],
      "execution_count": 13,
      "outputs": []
    },
    {
      "cell_type": "code",
      "metadata": {
        "id": "_9aFQhXzUbUf",
        "outputId": "bd654620-8c89-4f30-b26a-eac4be97ebe0",
        "colab": {
          "base_uri": "https://localhost:8080/"
        }
      },
      "source": [
        "rnn = RNN2(n_letters, 128, n_letters)\n",
        "optimizer = torch.optim.Adam(rnn.parameters())\n",
        "\n",
        "\n",
        "\n",
        "n_iters = 40000\n",
        "print_every = 2500\n",
        "plot_every = 500\n",
        "all_train_losses_ii = []\n",
        "all_validation_losses_ii = []\n",
        "train_loss = 0 # Reset every plot_every iters\n",
        "\n",
        "# Just return an output given a line\n",
        "def evaluate2(category_tensor, input_line_tensor, target_line_tensor):\n",
        "    target_line_tensor.unsqueeze_(-1)\n",
        "    hidden = rnn.initHidden()\n",
        "    loss = 0\n",
        "    for i in range(input_line_tensor.size()[0]):\n",
        "      if i==0:\n",
        "        output, hidden = rnn.forwardWithCat(category_tensor, input_line_tensor[i], hidden)\n",
        "      else:\n",
        "        output, hidden = rnn.forward(category_tensor, input_line_tensor[i], hidden)\n",
        "      loss += criterion(output, target_line_tensor[i])\n",
        "    return output, loss.item() / input_line_tensor.size(0)\n",
        "\n",
        "def eval_dataset2(dataset):\n",
        "    total_loss = 0\n",
        "    n_instances = 0\n",
        "    for category in all_categories:\n",
        "        category_tensor = Variable(categoryTensor(category))\n",
        "        n_instances += len(dataset[category])\n",
        "        for line in dataset[category]:\n",
        "            input_line_tensor = Variable(inputTensor(line))\n",
        "            target_line_tensor = Variable(targetTensor(line))\n",
        "            output, loss = evaluate2(category_tensor, input_line_tensor, target_line_tensor)\n",
        "            total_loss += loss\n",
        "    return total_loss / n_instances\n",
        "\n",
        "start = time.time()\n",
        "print('\\nIter_ii \\tTrain% \\tTime \\t\\tTrain_loss')\n",
        "for iter in range(1, n_iters + 1):\n",
        "    output, loss = train2(*randomTrainingExample())\n",
        "    train_loss += loss\n",
        "\n",
        "    if iter % print_every == 0:\n",
        "        print('%d \\t%d%% \\t(%s) \\t%.4f' % (iter, iter / n_iters * 100, timeSince(start), train_loss / plot_every))\n",
        "\n",
        "    if iter % plot_every == 0:\n",
        "        all_train_losses_ii.append(train_loss / plot_every)\n",
        "        train_loss = 0\n",
        "        \n",
        "    # Compute loss based on validation data\n",
        "    if iter % plot_every == 0:\n",
        "        average_validation_loss = eval_dataset2(validation_data)\n",
        "\n",
        "        # save model with best validation loss\n",
        "        if len(all_validation_losses_ii) == 0 or average_validation_loss < min(all_validation_losses_ii):\n",
        "            torch.save(rnn, 'char_rnn_generation_model2.pt')\n",
        "        all_validation_losses_ii.append(average_validation_loss)"
      ],
      "execution_count": 14,
      "outputs": [
        {
          "output_type": "stream",
          "text": [
            "\n",
            "Iter_ii \tTrain% \tTime \t\tTrain_loss\n",
            "2500 \t6% \t(0m 27s) \t2.4649\n",
            "5000 \t12% \t(0m 59s) \t2.3683\n",
            "7500 \t18% \t(1m 32s) \t2.3111\n",
            "10000 \t25% \t(2m 5s) \t2.3361\n",
            "12500 \t31% \t(2m 36s) \t2.3333\n",
            "15000 \t37% \t(3m 7s) \t2.2786\n",
            "17500 \t43% \t(3m 38s) \t2.2597\n",
            "20000 \t50% \t(4m 9s) \t2.2828\n",
            "22500 \t56% \t(4m 40s) \t2.2492\n",
            "25000 \t62% \t(5m 11s) \t2.2157\n",
            "27500 \t68% \t(5m 42s) \t2.1979\n",
            "30000 \t75% \t(6m 14s) \t2.1746\n",
            "32500 \t81% \t(6m 44s) \t2.2124\n",
            "35000 \t87% \t(7m 14s) \t2.2230\n",
            "37500 \t93% \t(7m 44s) \t2.1898\n",
            "40000 \t100% \t(8m 15s) \t2.1804\n"
          ],
          "name": "stdout"
        }
      ]
    },
    {
      "cell_type": "markdown",
      "metadata": {
        "id": "l6Lc6xGSo9Po"
      },
      "source": [
        "# Creating the Network iii\n"
      ]
    },
    {
      "cell_type": "code",
      "metadata": {
        "id": "NVq1nqIThFPH"
      },
      "source": [
        "import torch\n",
        "import torch.nn as nn\n",
        "from torch.autograd import Variable\n",
        "\n",
        "class RNN3(nn.Module):\n",
        "    def __init__(self, input_size, hidden_size, output_size):\n",
        "        super(RNN3, self).__init__()\n",
        "        self.hidden_size = hidden_size\n",
        "\n",
        "        self.i2h = nn.Linear(n_categories  + hidden_size, hidden_size)\n",
        "        self.i2o = nn.Linear(n_categories  + hidden_size, output_size)\n",
        "        self.o2o = nn.Linear(hidden_size + output_size, output_size)\n",
        "        self.dropout = nn.Dropout(0.1)\n",
        "        self.softmax = nn.LogSoftmax(dim=1)\n",
        "\n",
        "    def forward(self, category, input, hidden):\n",
        "        input_combined = torch.cat((category, hidden), 1)\n",
        "        hidden = self.i2h(input_combined)\n",
        "        output = self.i2o(input_combined)\n",
        "        output_combined = torch.cat((hidden, output), 1)\n",
        "        output = self.o2o(output_combined)\n",
        "        output = self.dropout(output)\n",
        "        output = self.softmax(output)\n",
        "        return output, hidden\n",
        "\n",
        "    def initHidden(self):\n",
        "        return torch.zeros(1, self.hidden_size)"
      ],
      "execution_count": 15,
      "outputs": []
    },
    {
      "cell_type": "markdown",
      "metadata": {
        "id": "3mTurOP8oTL9"
      },
      "source": [
        "# Training the Network iii\n"
      ]
    },
    {
      "cell_type": "code",
      "metadata": {
        "id": "iNQxzCFUhVAA"
      },
      "source": [
        "criterion = nn.NLLLoss()\n",
        "\n",
        "def train3(category_tensor, input_line_tensor, target_line_tensor):\n",
        "    target_line_tensor.unsqueeze_(-1)\n",
        "    hidden = rnn.initHidden()\n",
        "\n",
        "    rnn.zero_grad()\n",
        "\n",
        "    loss = 0\n",
        "\n",
        "    for i in range(input_line_tensor.size(0)):\n",
        "        output, hidden = rnn(category_tensor, input_line_tensor[i], hidden)\n",
        "        l = criterion(output, target_line_tensor[i])\n",
        "        loss += l\n",
        "\n",
        "    # compute the gradient by backpropagation\n",
        "    loss.backward()\n",
        "\n",
        "    # update the parameters\n",
        "    optimizer.step()\n",
        "\n",
        "    return output, loss.item() / input_line_tensor.size(0)"
      ],
      "execution_count": 16,
      "outputs": []
    },
    {
      "cell_type": "code",
      "metadata": {
        "id": "HdhHxT43hWzV"
      },
      "source": [
        "import time\n",
        "import math\n",
        "\n",
        "def timeSince(since):\n",
        "    now = time.time()\n",
        "    s = now - since\n",
        "    m = math.floor(s / 60)\n",
        "    s -= m * 60\n",
        "    return '%dm %ds' % (m, s)"
      ],
      "execution_count": 17,
      "outputs": []
    },
    {
      "cell_type": "code",
      "metadata": {
        "id": "Ti4OOOrFhYhK",
        "outputId": "dd954c27-d811-48a2-d5e0-ff1ef93b8ad9",
        "colab": {
          "base_uri": "https://localhost:8080/"
        }
      },
      "source": [
        "rnn = RNN3(n_letters, 128, n_letters)\n",
        "optimizer = torch.optim.Adam(rnn.parameters())\n",
        "\n",
        "\n",
        "n_iters = 40000\n",
        "print_every = 2500\n",
        "plot_every = 500\n",
        "all_train_losses_iii = []\n",
        "all_validation_losses_iii = []\n",
        "train_loss = 0 # Reset every plot_every iters\n",
        "\n",
        "# Just return an output given a line\n",
        "def evaluate3(category_tensor, input_line_tensor, target_line_tensor):\n",
        "    target_line_tensor.unsqueeze_(-1)\n",
        "    hidden = rnn.initHidden()\n",
        "    loss = 0\n",
        "    for i in range(input_line_tensor.size()[0]):\n",
        "      output, hidden = rnn(category_tensor, input_line_tensor[i], hidden)\n",
        "      loss += criterion(output, target_line_tensor[i])\n",
        "    return output, loss.item() / input_line_tensor.size(0)\n",
        "\n",
        "def eval_dataset3(dataset):\n",
        "    total_loss = 0\n",
        "    n_instances = 0\n",
        "    for category in all_categories:\n",
        "        category_tensor = Variable(categoryTensor(category))\n",
        "        n_instances += len(dataset[category])\n",
        "        for line in dataset[category]:\n",
        "            input_line_tensor = Variable(inputTensor(line))\n",
        "            target_line_tensor = Variable(targetTensor(line))\n",
        "            output, loss = evaluate3(category_tensor, input_line_tensor, target_line_tensor)\n",
        "            total_loss += loss\n",
        "    return total_loss / n_instances\n",
        "\n",
        "start = time.time()\n",
        "print('\\nIter \\tTrain% \\tTime \\t\\tTrain_loss')\n",
        "for iter in range(1, n_iters + 1):\n",
        "    output, loss = train3(*randomTrainingExample())\n",
        "    train_loss += loss\n",
        "\n",
        "    if iter % print_every == 0:\n",
        "        print('%d \\t%d%% \\t(%s) \\t%.4f' % (iter, iter / n_iters * 100, timeSince(start), train_loss / plot_every))\n",
        "\n",
        "    if iter % plot_every == 0:\n",
        "        all_train_losses_iii.append(train_loss / plot_every)\n",
        "        train_loss = 0\n",
        "        \n",
        "    # Compute loss based on validation data\n",
        "    if iter % plot_every == 0:\n",
        "        average_validation_loss = eval_dataset3(validation_data)\n",
        "\n",
        "        # save model with best validation loss\n",
        "        if len(all_validation_losses_iii) == 0 or average_validation_loss < min(all_validation_losses_iii):\n",
        "            torch.save(rnn, 'char_rnn_generation_model3.pt')\n",
        "        all_validation_losses_iii.append(average_validation_loss)"
      ],
      "execution_count": 18,
      "outputs": [
        {
          "output_type": "stream",
          "text": [
            "\n",
            "Iter \tTrain% \tTime \t\tTrain_loss\n",
            "2500 \t6% \t(0m 24s) \t2.7343\n",
            "5000 \t12% \t(0m 52s) \t2.6539\n",
            "7500 \t18% \t(1m 20s) \t2.6722\n",
            "10000 \t25% \t(1m 49s) \t2.6397\n",
            "12500 \t31% \t(2m 17s) \t2.6378\n",
            "15000 \t37% \t(2m 45s) \t2.6300\n",
            "17500 \t43% \t(3m 14s) \t2.6396\n",
            "20000 \t50% \t(3m 42s) \t2.6077\n",
            "22500 \t56% \t(4m 12s) \t2.6532\n",
            "25000 \t62% \t(4m 40s) \t2.6536\n",
            "27500 \t68% \t(5m 8s) \t2.6213\n",
            "30000 \t75% \t(5m 37s) \t2.6124\n",
            "32500 \t81% \t(6m 5s) \t2.6247\n",
            "35000 \t87% \t(6m 33s) \t2.6067\n",
            "37500 \t93% \t(7m 2s) \t2.6316\n",
            "40000 \t100% \t(7m 30s) \t2.6423\n"
          ],
          "name": "stdout"
        }
      ]
    },
    {
      "cell_type": "markdown",
      "metadata": {
        "id": "wUfIYvN1pDrS"
      },
      "source": [
        "# Creating the Network iv\n"
      ]
    },
    {
      "cell_type": "code",
      "metadata": {
        "id": "kyk8YmV8jkrR"
      },
      "source": [
        "import torch\n",
        "import torch.nn as nn\n",
        "from torch.autograd import Variable\n",
        "\n",
        "class RNN4(nn.Module):\n",
        "    def __init__(self, input_size, hidden_size, output_size):\n",
        "        super(RNN4, self).__init__()\n",
        "        self.hidden_size = hidden_size\n",
        "\n",
        "        self.i2h_withCat = nn.Linear(n_categories + hidden_size, hidden_size)\n",
        "        self.i2h = nn.Linear( hidden_size, hidden_size)\n",
        "        self.i2o_withCat = nn.Linear(n_categories + hidden_size, output_size)\n",
        "        self.i2o = nn.Linear( hidden_size, output_size)\n",
        "        self.o2o = nn.Linear(hidden_size + output_size, output_size)\n",
        "        self.dropout = nn.Dropout(0.1)\n",
        "        self.softmax = nn.LogSoftmax(dim=1)\n",
        "\n",
        "    def forward(self, category, input, hidden):\n",
        "        input_combined = hidden\n",
        "        hidden = self.i2h(input_combined)\n",
        "        output = self.i2o(input_combined)\n",
        "        output_combined = torch.cat((hidden, output), 1)\n",
        "        output = self.o2o(output_combined)\n",
        "        output = self.dropout(output)\n",
        "        output = self.softmax(output)\n",
        "        return output, hidden\n",
        "\n",
        "    def forwardWithCat(self, category, input, hidden):\n",
        "        input_combined = torch.cat((category, hidden), 1)\n",
        "        hidden = self.i2h_withCat(input_combined)\n",
        "        output = self.i2o_withCat(input_combined)\n",
        "        output_combined = torch.cat((hidden, output), 1)\n",
        "        output = self.o2o(output_combined)\n",
        "        output = self.dropout(output)\n",
        "        output = self.softmax(output)\n",
        "        return output, hidden\n",
        "\n",
        "    def initHidden(self):\n",
        "        return torch.zeros(1, self.hidden_size)"
      ],
      "execution_count": 19,
      "outputs": []
    },
    {
      "cell_type": "markdown",
      "metadata": {
        "id": "g8u9-2X1oZMa"
      },
      "source": [
        "# Training the Network iv\n"
      ]
    },
    {
      "cell_type": "code",
      "metadata": {
        "id": "FUgs9lxaj5G7"
      },
      "source": [
        "criterion = nn.NLLLoss()\n",
        "\n",
        "def train4(category_tensor, input_line_tensor, target_line_tensor):\n",
        "    target_line_tensor.unsqueeze_(-1)\n",
        "    hidden = rnn.initHidden()\n",
        "\n",
        "    rnn.zero_grad()\n",
        "\n",
        "    loss = 0\n",
        "\n",
        "    for i in range(input_line_tensor.size(0)):\n",
        "        if i==0:\n",
        "          output, hidden = rnn.forwardWithCat(category_tensor, input_line_tensor[i], hidden)\n",
        "        else:\n",
        "          output, hidden = rnn.forward(category_tensor, input_line_tensor[i], hidden)\n",
        "        l = criterion(output, target_line_tensor[i])\n",
        "        loss += l\n",
        "\n",
        "    # compute the gradient by backpropagation\n",
        "    loss.backward()\n",
        "\n",
        "    # update the parameters\n",
        "    optimizer.step()\n",
        "\n",
        "    return output, loss.item() / input_line_tensor.size(0)"
      ],
      "execution_count": 20,
      "outputs": []
    },
    {
      "cell_type": "code",
      "metadata": {
        "id": "UYVraVFuj6wZ"
      },
      "source": [
        "import time\n",
        "import math\n",
        "\n",
        "def timeSince(since):\n",
        "    now = time.time()\n",
        "    s = now - since\n",
        "    m = math.floor(s / 60)\n",
        "    s -= m * 60\n",
        "    return '%dm %ds' % (m, s)"
      ],
      "execution_count": 21,
      "outputs": []
    },
    {
      "cell_type": "markdown",
      "metadata": {
        "id": "2IMM1WV9oDP1"
      },
      "source": [
        ""
      ]
    },
    {
      "cell_type": "code",
      "metadata": {
        "id": "f-ZkiOLMj82t",
        "outputId": "8787f9c1-9166-459d-a7f7-63bdaecc5888",
        "colab": {
          "base_uri": "https://localhost:8080/"
        }
      },
      "source": [
        "rnn = RNN4(n_letters, 128, n_letters)\n",
        "optimizer = torch.optim.Adam(rnn.parameters())\n",
        "\n",
        "n_iters = 40000\n",
        "print_every = 2500\n",
        "plot_every = 500\n",
        "all_train_losses_iv = []\n",
        "all_validation_losses_iv = []\n",
        "train_loss = 0 # Reset every plot_every iters\n",
        "\n",
        "# Just return an output given a line\n",
        "def evaluate4(category_tensor, input_line_tensor, target_line_tensor):\n",
        "    target_line_tensor.unsqueeze_(-1)\n",
        "    hidden = rnn.initHidden()\n",
        "    loss = 0\n",
        "    for i in range(input_line_tensor.size()[0]):\n",
        "      if i==0:\n",
        "        output, hidden = rnn.forwardWithCat(category_tensor, input_line_tensor[i], hidden)\n",
        "      else:\n",
        "        output, hidden = rnn.forward(category_tensor, input_line_tensor[i], hidden)\n",
        "      loss += criterion(output, target_line_tensor[i])\n",
        "    return output, loss.item() / input_line_tensor.size(0)\n",
        "\n",
        "def eval_dataset4(dataset):\n",
        "    total_loss = 0\n",
        "    n_instances = 0\n",
        "    for category in all_categories:\n",
        "        category_tensor = Variable(categoryTensor(category))\n",
        "        n_instances += len(dataset[category])\n",
        "        for line in dataset[category]:\n",
        "            input_line_tensor = Variable(inputTensor(line))\n",
        "            target_line_tensor = Variable(targetTensor(line))\n",
        "            output, loss = evaluate4(category_tensor, input_line_tensor, target_line_tensor)\n",
        "            total_loss += loss\n",
        "    return total_loss / n_instances\n",
        "\n",
        "start = time.time()\n",
        "print('\\nIter \\tTrain% \\tTime \\t\\tTrain_loss')\n",
        "for iter in range(1, n_iters + 1):\n",
        "    output, loss = train4(*randomTrainingExample())\n",
        "    train_loss += loss\n",
        "\n",
        "    if iter % print_every == 0:\n",
        "        print('%d \\t%d%% \\t(%s) \\t%.4f' % (iter, iter / n_iters * 100, timeSince(start), train_loss / plot_every))\n",
        "\n",
        "    if iter % plot_every == 0:\n",
        "        all_train_losses_iv.append(train_loss / plot_every)\n",
        "        train_loss = 0\n",
        "        \n",
        "    # Compute loss based on validation data\n",
        "    if iter % plot_every == 0:\n",
        "        average_validation_loss = eval_dataset4(validation_data)\n",
        "\n",
        "        # save model with best validation loss\n",
        "        if len(all_validation_losses_iv) == 0 or average_validation_loss < min(all_validation_losses_iv):\n",
        "            torch.save(rnn, 'char_rnn_generation_model4.pt')\n",
        "        all_validation_losses_iv.append(average_validation_loss)"
      ],
      "execution_count": 22,
      "outputs": [
        {
          "output_type": "stream",
          "text": [
            "\n",
            "Iter \tTrain% \tTime \t\tTrain_loss\n",
            "2500 \t6% \t(0m 24s) \t2.7540\n",
            "5000 \t12% \t(0m 52s) \t2.7165\n",
            "7500 \t18% \t(1m 21s) \t2.6920\n",
            "10000 \t25% \t(1m 50s) \t2.6539\n",
            "12500 \t31% \t(2m 19s) \t2.6461\n",
            "15000 \t37% \t(2m 47s) \t2.6058\n",
            "17500 \t43% \t(3m 16s) \t2.6645\n",
            "20000 \t50% \t(3m 44s) \t2.6475\n",
            "22500 \t56% \t(4m 13s) \t2.6460\n",
            "25000 \t62% \t(4m 41s) \t2.6013\n",
            "27500 \t68% \t(5m 8s) \t2.5930\n",
            "30000 \t75% \t(5m 37s) \t2.6216\n",
            "32500 \t81% \t(6m 6s) \t2.6367\n",
            "35000 \t87% \t(6m 34s) \t2.6135\n",
            "37500 \t93% \t(7m 1s) \t2.6102\n",
            "40000 \t100% \t(7m 29s) \t2.6299\n"
          ],
          "name": "stdout"
        }
      ]
    },
    {
      "cell_type": "markdown",
      "metadata": {
        "id": "kbnt0ez-dUSK"
      },
      "source": [
        "Plotting the Losses\n",
        "-------------------\n",
        "\n",
        "Plotting the historical loss from all\\_losses shows the network\n",
        "learning:\n",
        "\n",
        "\n"
      ]
    },
    {
      "cell_type": "code",
      "metadata": {
        "id": "e_cF9iL1dUSK",
        "outputId": "64e42560-9645-4ada-9f4e-6aaa72e7956f",
        "colab": {
          "base_uri": "https://localhost:8080/",
          "height": 645
        }
      },
      "source": [
        "import matplotlib.pyplot as plt\n",
        "import matplotlib.ticker as ticker\n",
        "\n",
        "plt.figure()\n",
        "plt.plot(all_train_losses_i)\n",
        "plt.plot(all_train_losses_ii)\n",
        "plt.plot(all_train_losses_iii)\n",
        "plt.plot(all_train_losses_iv)\n",
        "plt.title('Generating names with a character-level RNN (Training loss)')\n",
        "plt.ylabel('Negative Log Likelihood')\n",
        "plt.xlabel('# of 500 iterations')\n",
        "plt.legend(['i','ii','iii','iv'], loc='upper right')\n",
        "\n",
        "plt.figure()\n",
        "plt.plot(all_validation_losses_i)\n",
        "plt.plot(all_validation_losses_ii)\n",
        "plt.plot(all_validation_losses_iii)\n",
        "plt.plot(all_validation_losses_iv)\n",
        "plt.title('Generating names with a character-level RNN (Validation loss)')\n",
        "plt.ylabel('Negative Log Likelihood')\n",
        "plt.xlabel('# of 500 iterations')\n",
        "plt.legend(['i','ii','iii','iv'], loc='upper right')\n",
        "\n",
        "# evaluate on test set and print average test loss\n",
        "rnn = torch.load('char_rnn_generation_model.pt')\n",
        "average_test_loss = eval_dataset1(test_data)\n",
        "print('Average test loss_i: ' + str(average_test_loss))\n",
        "\n",
        "# evaluate on test set and print average test loss\n",
        "rnn = torch.load('char_rnn_generation_model2.pt')\n",
        "average_test_loss = eval_dataset2(test_data)\n",
        "print('Average test loss_ii: ' + str(average_test_loss))\n",
        "\n",
        "# evaluate on test set and print average test loss\n",
        "rnn = torch.load('char_rnn_generation_model3.pt')\n",
        "average_test_loss = eval_dataset3(test_data)\n",
        "print('Average test loss_iii: ' + str(average_test_loss))\n",
        "\n",
        "# evaluate on test set and print average test loss\n",
        "rnn = torch.load('char_rnn_generation_model4.pt')\n",
        "average_test_loss = eval_dataset4(test_data)\n",
        "print('Average test loss_iv: ' + str(average_test_loss))"
      ],
      "execution_count": 23,
      "outputs": [
        {
          "output_type": "stream",
          "text": [
            "Average test loss_i: 2.429596164826882\n",
            "Average test loss_ii: 2.444070637122696\n",
            "Average test loss_iii: 2.7671471006028097\n",
            "Average test loss_iv: 2.7852356149654454\n"
          ],
          "name": "stdout"
        },
        {
          "output_type": "display_data",
          "data": {
            "image/png": "[encoded data removed]",
            "text/plain": [
              "<Figure size 432x288 with 1 Axes>"
            ]
          },
          "metadata": {
            "tags": [],
            "needs_background": "light"
          }
        },
        {
          "output_type": "display_data",
          "data": {
            "image/png": "[encoded data removed]",
            "text/plain": [
              "<Figure size 432x288 with 1 Axes>"
            ]
          },
          "metadata": {
            "tags": [],
            "needs_background": "light"
          }
        }
      ]
    },
    {
      "cell_type": "markdown",
      "metadata": {
        "id": "DcKXDphtzL50"
      },
      "source": [
        "# **Discussion**"
      ]
    },
    {
      "cell_type": "markdown",
      "metadata": {
        "id": "0r3aAoqxwJG5"
      },
      "source": [
        "As we move forward from part i to iv we reduce the number of information fed into our RNN. As the results shows, the more we fed information to RNN the more accurate result we get (from case iv to case i). Both training and test loss decreases as we feed more info to the network since we are training our RNN with more data and higher efficiency. This increase of \n",
        "information is not so much that leads to overfitting ( we can see the results improving in case i), however, in case i the time of running the code increses so it is a bit more costly as we are dealing with more data entry in our RNN.\n",
        "\n",
        "Also comparison between case ii and case iii shows that in this model feeding the previous hidden unit and previous character is better than feeding previous hidden unit and category. My understanding of this is that, the previous character changes in every iteration and feeding it to the network is a useful and new information. Category, on the other hand, is a fixed information which is alredy given to model in the first iteration and feeding it in all iterations does not help that much."
      ]
    }
  ]
}